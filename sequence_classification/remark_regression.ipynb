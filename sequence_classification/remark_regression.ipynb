{
 "cells": [
  {
   "cell_type": "code",
   "execution_count": null,
   "id": "9337163c-da20-4768-a729-7e550ca386e5",
   "metadata": {},
   "outputs": [],
   "source": [
    "import pandas as pd"
   ]
  },
  {
   "cell_type": "code",
   "execution_count": null,
   "id": "04e311c8-6934-4db5-a7cf-6a633847afe0",
   "metadata": {},
   "outputs": [],
   "source": [
    "df = pd.read_pickle('./remarks_data.pickle')"
   ]
  },
  {
   "cell_type": "code",
   "execution_count": null,
   "id": "a018f6fb-42bf-4dc8-9960-ff380f7fb93e",
   "metadata": {},
   "outputs": [],
   "source": [
    "df.head(2)"
   ]
  },
  {
   "cell_type": "code",
   "execution_count": null,
   "id": "3bbd6726-eda3-435d-b554-21b7d66c0cfb",
   "metadata": {},
   "outputs": [],
   "source": [
    "df['Expert Field Note Rating'] += 1 # normalize output\n",
    "df['Expert Field Note Rating'] /= 5 # normalize output"
   ]
  },
  {
   "cell_type": "markdown",
   "id": "4acbd04c-e98a-4553-ab63-1fb9f905693b",
   "metadata": {},
   "source": [
    "#### Build Train & Test Data"
   ]
  },
  {
   "cell_type": "code",
   "execution_count": null,
   "id": "fa738d6f-0c57-41a9-8521-1772ef920043",
   "metadata": {},
   "outputs": [],
   "source": [
    "from sklearn.model_selection import train_test_split\n",
    "\n",
    "X_train, X_val, y_train, y_val = train_test_split(df.index.values, \n",
    "                                                  df['Expert Field Note Rating'].values, \n",
    "                                                  test_size=0.10, \n",
    "                                                  random_state=42, \n",
    "                                                  stratify=df['Expert Field Note Rating'].values)"
   ]
  },
  {
   "cell_type": "code",
   "execution_count": null,
   "id": "782262f7-c05d-4475-a8de-ca95e37dafcf",
   "metadata": {},
   "outputs": [],
   "source": [
    "df['data_type'] = ['not_set']*df.shape[0]\n",
    "\n",
    "df.loc[X_train, 'data_type'] = 'train'\n",
    "df.loc[X_val, 'data_type'] = 'val'"
   ]
  },
  {
   "cell_type": "code",
   "execution_count": null,
   "id": "827c1f4b-c02e-403b-bd3d-bc551cca5a77",
   "metadata": {},
   "outputs": [],
   "source": [
    "df.groupby(['Expert Field Note Rating', 'data_type']).count()"
   ]
  },
  {
   "cell_type": "code",
   "execution_count": null,
   "id": "4af32194-8d6d-48c3-ba3c-5b10a3f433cd",
   "metadata": {},
   "outputs": [],
   "source": [
    "X_train = df[df.data_type=='train']['Occurrence Remarks'].values\n",
    "X_val = df[df.data_type=='val']['Occurrence Remarks'].values\n",
    "y_train = df[df.data_type=='train']['Expert Field Note Rating'].values\n",
    "y_val = df[df.data_type=='val']['Expert Field Note Rating'].values"
   ]
  },
  {
   "cell_type": "markdown",
   "id": "ed0ec346-a7ce-4a5a-832d-3ab1603bbc43",
   "metadata": {},
   "source": [
    "#### Try AutoKeras for Regression\n",
    "https://autokeras.com/tutorial/text_regression/"
   ]
  },
  {
   "cell_type": "code",
   "execution_count": null,
   "id": "cf2d35a5-df94-4f73-9006-0e15acbbff7c",
   "metadata": {},
   "outputs": [],
   "source": [
    "# !pip install autokeras --user"
   ]
  },
  {
   "cell_type": "code",
   "execution_count": null,
   "id": "9c515a4e-375e-495b-b2ac-cf695a65230d",
   "metadata": {},
   "outputs": [],
   "source": [
    "import autokeras as ak\n",
    "# Initialize the text regressor.\n",
    "reg = ak.TextRegressor(overwrite=True, max_trials=1)  # It tries 10 different models."
   ]
  },
  {
   "cell_type": "markdown",
   "id": "20ac0828-13ce-4385-a651-f426f0c56ca7",
   "metadata": {},
   "source": [
    "Fit with our data"
   ]
  },
  {
   "cell_type": "code",
   "execution_count": null,
   "id": "1094077c-c945-4f2e-a801-2af6abcf5f0d",
   "metadata": {},
   "outputs": [],
   "source": [
    "# Feed the text regressor with training data.\n",
    "reg.fit(X_train, y_train, epochs=2)\n",
    "# Predict with the best model.\n",
    "predicted_y = reg.predict(X_val)\n",
    "# Evaluate the best model with testing data.\n",
    "print(reg.evaluate(X_val, y_val))"
   ]
  },
  {
   "cell_type": "markdown",
   "id": "ee1ca8cc-c70c-49ef-af58-20ef5b874da4",
   "metadata": {},
   "source": [
    "Seems all output results are similar.. Model not learning to differentiate, instead just minimising the loss. <br>\n",
    "Perhaps not enough training data.print(type(model))  # <class 'tensorflow.python.keras.engine.training.Model'>\n",
    "\n",
    "try:\n",
    "    model.save(\"model_autokeras\", save_format=\"tf\")\n",
    "except Exception:\n",
    "    model.save(\"model_autokeras.h5\")"
   ]
  },
  {
   "cell_type": "code",
   "execution_count": null,
   "id": "e96bac7a-83ab-4d6a-9a15-434003519384",
   "metadata": {},
   "outputs": [],
   "source": [
    "# Export as a Keras Model.\n",
    "model = reg.export_model()\n",
    "\n",
    "print(type(model))  # <class 'tensorflow.python.keras.engine.training.Model'>\n",
    "\n",
    "try:\n",
    "    model.save(\"model_autokeras\", save_format=\"tf\")\n",
    "except Exception:\n",
    "    model.save(\"model_autokeras.h5\")\n",
    "\n",
    "import numpy as np\n",
    "import tensorflow as tf\n",
    "from tensorflow.keras.models import load_model\n",
    "loaded_model = load_model(\"model_autokeras\", custom_objects=ak.CUSTOM_OBJECTS)"
   ]
  },
  {
   "cell_type": "code",
   "execution_count": null,
   "id": "4a91ca0e-b555-48a0-9163-24f8b18fd71d",
   "metadata": {},
   "outputs": [],
   "source": [
    "predicted_y = loaded_model.predict(tf.expand_dims(np.array([''''Pruning' a young plum tree in a suburban backyard at dinner time.\n",
    "Six birds perched quietly in or on the trees. Quiet isn't usually how I'd describe them but they were very busy.\n",
    "Less than 10m from an artificial water source. Less than 2km from a natural water source. Not near a major road or rocky outcrop.''']), -1))\n",
    "print(predicted_y)"
   ]
  },
  {
   "cell_type": "code",
   "execution_count": null,
   "id": "37b93c4a-44da-4f16-aeda-9c3d6aa52016",
   "metadata": {},
   "outputs": [],
   "source": []
  }
 ],
 "metadata": {
  "environment": {
   "kernel": "python3",
   "name": "tf2-gpu.2-7.m87",
   "type": "gcloud",
   "uri": "gcr.io/deeplearning-platform-release/tf2-gpu.2-7:m87"
  },
  "kernelspec": {
   "display_name": "Python 3",
   "language": "python",
   "name": "python3"
  },
  "language_info": {
   "codemirror_mode": {
    "name": "ipython",
    "version": 3
   },
   "file_extension": ".py",
   "mimetype": "text/x-python",
   "name": "python",
   "nbconvert_exporter": "python",
   "pygments_lexer": "ipython3",
   "version": "3.7.12"
  }
 },
 "nbformat": 4,
 "nbformat_minor": 5
}
