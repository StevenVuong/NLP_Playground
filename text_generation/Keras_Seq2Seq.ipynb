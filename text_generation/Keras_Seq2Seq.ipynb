{
  "cells": [
    {
      "cell_type": "markdown",
      "metadata": {
        "id": "6_1EHnxSojuw"
      },
      "source": [
        "[Original Post](https://blog.keras.io/a-ten-minute-introduction-to-sequence-to-sequence-learning-in-keras.html) <br>\n",
        "[Updated Post](https://blog.keras.io/a-ten-minute-introduction-to-sequence-to-sequence-learning-in-keras.html)\n",
        "\n",
        "General Case: Canonical seq-2-seq <p>\n",
        "Input and Output sequences have different lengths, and entire input sequence is required in order to start predicting the target. Requires a more advanced setup. How it works:\n",
        "-  RNN layer (or stack of) acts as an 'encoder'; processes input sequence and returns its own internal state. Note we will discard the outputs of encoder RNN, only recovering the state. This will serve as the 'context', or 'conditioning' of the decoder in the next step.\n",
        "-  Another RNN layer (or stack of) acts as the 'decoder'; it is trained to predict the next characters of the target sequence, given previous characters of the target sequence. Specifically, it is trained to turn the target sequences into the same sequences but offset by one timestep in the future, a training process called 'teacher forcing' in this context. <br>\n",
        "Importantly, the decoder uses as an initial state the state vectors from the encoder, which is how the decoder obtains information about what it is supposed to generate. Effectively, the decoder learns to generate targets[t+1] given targets[...t], and thus is conditioned on the input sequence.\n",
        "\n",
        "\n",
        "In inference mode, we want to decode unknown input sequences, so we go through a slightly different process:\n",
        "1.  Encode input sequence into state vectors\n",
        "2.  Start with target sequence of size 1 (start of sequence character)\n",
        "3.  Feed state vectors and 1-char target sequence to decoder to produce predictions for the next character\n",
        "4.  Sample next character using these predictions (use simple argmax)\n",
        "5.  Append the sampled character to target sequence\n",
        "6.  Repeat until we generate end of sequence character or hit the character limit -  until we generate [STOP]"
      ]
    },
    {
      "cell_type": "markdown",
      "metadata": {
        "id": "s4JikhSwro4w"
      },
      "source": [
        "Note: `Teacher forcing` is a ML method for training RNN models that use the ground truth from a prior step as the input. [Source](https://machinelearningmastery.com/teacher-forcing-for-recurrent-neural-networks/)"
      ]
    },
    {
      "cell_type": "markdown",
      "metadata": {
        "id": "VWPlqwQ-qhA9"
      },
      "source": [
        "Keras Example <p>\n",
        "Will use a dataset of English-French translation pairs. Will implement character-level seq-2-seq, processing input character-by-character and producing the output in the same manner. <br>\n",
        "Another option is to have a word-level model (tends to be more commend for Machine Translation); can look at in the end of the post..<p>\n",
        "\n",
        "Process Summary:\n",
        "1.  Turn sentences into 3 Numpy arrays: \n",
        "    -  `encoder_input_data`: 3D array of shape `(num_pairs, max_english_sentence_length, num_english_characters)`; containing a one-hot vectorization of the English sentences\n",
        "    -  `decoder_input_data`: 3D array of shape `(num_pairs, max_french_sentence_length, num_french_characters)`; containing one-hot vectorization of the French Sentences\n",
        "    -  `decoder_target_data`: Same as `decoder_input_data`, but offset by one timestep. `decoder_target_data[:, t, :]` will be the same as `decoder_input_data[:, t+1, :]`\n",
        "2.  Train a basic LSTM-based Seq2Seq model to predict `decoder_target_data` given `encoder_input_data` and `decoder_input_data`. Or model uses teacher forcing.\n",
        "3.  Decode some sentences to check that the model is working (i.e. turn samples from `encoder_input_data` into corresponding samples from `decoder_target_data`).\n",
        "<p>\n",
        "\n",
        "Because the training and inference process are different, we use different models for both; albeit they all leverage the same inner layers. <br>\n",
        "Our training model leverages three key features of Keras RNN's:\n",
        "-  `return_state` constructor argument, configuring a RNN layer to return a list where the first entry is the outputs and the next entries are the RNN states. These are used to recovere the states of the encoder.\n",
        "-  The `initial_state` call argument, specifying the initial state(s) of a RNN; this is used to pass the encoder states to the decoder as initial states.\n",
        "-  The `return_sequences` constructor argument, configuring a RNN to return its full sequence of outputs (instead of just the last output, which is the default behaviour). This is used in the decoder."
      ]
    },
    {
      "cell_type": "code",
      "execution_count": 1,
      "metadata": {
        "id": "ykh0ecUAvY8M"
      },
      "outputs": [],
      "source": [
        "import numpy as np\n",
        "import tensorflow as tf\n",
        "from tensorflow import keras"
      ]
    },
    {
      "cell_type": "code",
      "execution_count": 2,
      "metadata": {
        "colab": {
          "base_uri": "https://localhost:8080/"
        },
        "id": "iQXTm49Fof6W",
        "outputId": "a3cf9418-2860-4456-e3cc-826cf94566bb"
      },
      "outputs": [
        {
          "data": {
            "text/plain": [
              "['Archive:  fra-eng.zip',\n",
              " 'replace _about.txt? [y]es, [n]o, [A]ll, [N]one, [r]ename: n',\n",
              " 'replace fra.txt? [y]es, [n]o, [A]ll, [N]one, [r]ename: n']"
            ]
          },
          "execution_count": 2,
          "metadata": {},
          "output_type": "execute_result"
        }
      ],
      "source": [
        "## Download the file\n",
        "!!curl -O http://www.manythings.org/anki/fra-eng.zip\n",
        "!!unzip fra-eng.zip"
      ]
    },
    {
      "cell_type": "code",
      "execution_count": 3,
      "metadata": {
        "id": "HZkirIQsxvee"
      },
      "outputs": [],
      "source": [
        "## config\n",
        "batch_size = 64  # Batch size for training.\n",
        "epochs = 100  # Number of epochs to train for.\n",
        "latent_dim = 256  # Latent dimensionality of the encoding space.\n",
        "num_samples = 10000  # Number of samples to train on.\n",
        "\n",
        "# Path to the data txt file on disk.\n",
        "data_path = \"fra.txt\""
      ]
    },
    {
      "cell_type": "code",
      "execution_count": 4,
      "metadata": {
        "colab": {
          "base_uri": "https://localhost:8080/"
        },
        "id": "IBFTYf0kxS_v",
        "outputId": "74e75583-a641-4621-944a-b26291bbf4d2"
      },
      "outputs": [
        {
          "name": "stdout",
          "output_type": "stream",
          "text": [
            "Number of samples: 10000\n",
            "Number of unique input tokens: 71\n",
            "Number of unique output tokens: 92\n",
            "Max sequence length for inputs: 15\n",
            "Max sequence length for outputs: 59\n"
          ]
        }
      ],
      "source": [
        "## Prepare the data\n",
        "\n",
        "\n",
        "# initialise arrays to store texts and characters\n",
        "input_texts = []\n",
        "target_texts = []\n",
        "input_characters = set()\n",
        "target_characters = set()\n",
        "\n",
        "# open dataset and read lines\n",
        "with open(data_path, \"r\", encoding=\"utf-8\") as f:\n",
        "    lines = f.read().split(\"\\n\")\n",
        "\n",
        "# only take up to max num samples or the length of the dataset\n",
        "for line in lines[: min(num_samples, len(lines) - 1)]:\n",
        "\n",
        "    # split texts; input, target, info..\n",
        "    input_text, target_text, _ = line.split(\"\\t\") \n",
        "\n",
        "    # We use \"tab\" as the \"start sequence\" character\n",
        "    # for the targets, and \"\\n\" as \"end sequence\" character.\n",
        "    target_text = \"\\t\" + target_text + \"\\n\"\n",
        "\n",
        "    # append to input and target lists of texts\n",
        "    input_texts.append(input_text)\n",
        "    target_texts.append(target_text)\n",
        "\n",
        "    # append characters to input and target text sets\n",
        "    for char in input_text:\n",
        "        if char not in input_characters:\n",
        "            input_characters.add(char)\n",
        "    for char in target_text:\n",
        "        if char not in target_characters:\n",
        "            target_characters.add(char)\n",
        "\n",
        "# turn sets to list and sort\n",
        "input_characters = sorted(list(input_characters))\n",
        "target_characters = sorted(list(target_characters))\n",
        "num_encoder_tokens = len(input_characters)\n",
        "num_decoder_tokens = len(target_characters)\n",
        "max_encoder_seq_length = max([len(txt) for txt in input_texts])\n",
        "max_decoder_seq_length = max([len(txt) for txt in target_texts])\n",
        "# print some summary stats\n",
        "print(\"Number of samples:\", len(input_texts))\n",
        "print(\"Number of unique input tokens:\", num_encoder_tokens)\n",
        "print(\"Number of unique output tokens:\", num_decoder_tokens)\n",
        "print(\"Max sequence length for inputs:\", max_encoder_seq_length)\n",
        "print(\"Max sequence length for outputs:\", max_decoder_seq_length)"
      ]
    },
    {
      "cell_type": "code",
      "execution_count": 5,
      "metadata": {
        "colab": {
          "base_uri": "https://localhost:8080/"
        },
        "id": "1bskTNFAzX66",
        "outputId": "a86b02c2-5b3c-463d-d8c0-d11ffacf70f3"
      },
      "outputs": [
        {
          "name": "stdout",
          "output_type": "stream",
          "text": [
            "Number of input tokens 71\n",
            "Number of target tokens 92\n",
            "Encoder Input data Shape (10000, 15, 71)\n",
            "Decoder Input/Target data Shape (10000, 59, 92)\n"
          ]
        }
      ],
      "source": [
        "# create indexes of character to index num for input and target\n",
        "input_token_index = dict([(char, i) for i, char in enumerate(input_characters)])\n",
        "target_token_index = dict([(char, i) for i, char in enumerate(target_characters)])\n",
        "print('Number of input tokens', len(input_token_index))\n",
        "print('Number of target tokens', len(target_token_index))\n",
        "\n",
        "# create input and target arrays\n",
        "encoder_input_data = np.zeros(\n",
        "    (len(input_texts), max_encoder_seq_length, num_encoder_tokens), dtype=\"float32\"\n",
        ")\n",
        "decoder_input_data = np.zeros(\n",
        "    (len(input_texts), max_decoder_seq_length, num_decoder_tokens), dtype=\"float32\"\n",
        ")\n",
        "# decoder target is the same dimensions as decoder input data\n",
        "decoder_target_data = np.zeros(\n",
        "    (len(input_texts), max_decoder_seq_length, num_decoder_tokens), dtype=\"float32\"\n",
        ")\n",
        "print(\"Encoder Input data Shape\", encoder_input_data.shape)\n",
        "print('Decoder Input/Target data Shape', decoder_target_data.shape)"
      ]
    },
    {
      "cell_type": "code",
      "execution_count": 6,
      "metadata": {
        "id": "xUAyMvFN0sQj"
      },
      "outputs": [],
      "source": [
        "# go through each input text and target text to fill in training inputs\n",
        "for i, (input_text, target_text) in enumerate(zip(input_texts, target_texts)):\n",
        "        \n",
        "    # for input token; set value to 1 in encoder input wherever there is a character.\n",
        "    # also for the space after the input text location; a blank space token\n",
        "    # one-hot representation of the characters that are present for that text\n",
        "    for t, char in enumerate(input_text):\n",
        "        encoder_input_data[i, t, input_token_index[char]] = 1.0 # becomes a very sparse matrix..\n",
        "    # set everything else as having empty space; as no value present for those\n",
        "    encoder_input_data[i, t + 1 :, input_token_index[\" \"]] = 1.0\n",
        "\n",
        "    # do the same for target data; set 1 wherever there is a character for each text\n",
        "    for t, char in enumerate(target_text):\n",
        "        # decoder_target_data is ahead of decoder_input_data by one timestep\n",
        "        # as encoder wants to predict next timestep; so decoder is just one step ahead..\n",
        "        decoder_input_data[i, t, target_token_index[char]] = 1.0\n",
        "        if t > 0:\n",
        "            # decoder_target_data will be ahead by one timestep\n",
        "            # and will not include the start character.\n",
        "            # >> So there is information of one-ahead timestep (what we want to predict)\n",
        "            decoder_target_data[i, t - 1, target_token_index[char]] = 1.0 # shows the character one timestep earlier; no beginning char\n",
        "\n",
        "    # everything else has empty space; no value present for such tokens..\n",
        "    decoder_input_data[i, t + 1 :, target_token_index[\" \"]] = 1.0 # feeding in t+1; mask all after\n",
        "    decoder_target_data[i, t:, target_token_index[\" \"]] = 1.0 # \n"
      ]
    },
    {
      "cell_type": "code",
      "execution_count": 7,
      "metadata": {
        "id": "Fg1c0Mw4Hkws"
      },
      "outputs": [],
      "source": [
        "## build the model\n",
        "\n",
        "# Define an input sequence and process it.\n",
        "encoder_inputs = keras.Input(shape=(None, num_encoder_tokens))\n",
        "encoder = keras.layers.LSTM(latent_dim, return_state=True)\n",
        "encoder_outputs, state_h, state_c = encoder(encoder_inputs)\n",
        "\n",
        "# We discard `encoder_outputs` and only keep the states.\n",
        "encoder_states = [state_h, state_c]\n",
        "\n",
        "# Set up the decoder, using `encoder_states` as initial state.\n",
        "decoder_inputs = keras.Input(shape=(None, num_decoder_tokens))\n",
        "\n",
        "# We set up our decoder to return full output sequences,\n",
        "# and to return internal states as well. We don't use the\n",
        "# return states in the training model, but we will use them in inference.\n",
        "decoder_lstm = keras.layers.LSTM(latent_dim, return_sequences=True, return_state=True)\n",
        "decoder_outputs, _, _ = decoder_lstm(decoder_inputs, initial_state=encoder_states)\n",
        "\n",
        "# build dense layer with number of output tokens and predict based on decoder outputs\n",
        "decoder_dense = keras.layers.Dense(num_decoder_tokens, activation=\"softmax\")\n",
        "decoder_outputs = decoder_dense(decoder_outputs)\n",
        "\n",
        "# Define the model that will turn\n",
        "# `encoder_input_data` & `decoder_input_data` into `decoder_target_data`\n",
        "model = keras.Model([encoder_inputs, decoder_inputs], decoder_outputs)"
      ]
    },
    {
      "cell_type": "code",
      "execution_count": 8,
      "metadata": {
        "colab": {
          "base_uri": "https://localhost:8080/"
        },
        "id": "n_tWdYBKVMXI",
        "outputId": "aa19fbb2-c9e2-498a-ef2f-03e8fc8de9e1"
      },
      "outputs": [
        {
          "name": "stdout",
          "output_type": "stream",
          "text": [
            "Model: \"model\"\n",
            "__________________________________________________________________________________________________\n",
            " Layer (type)                   Output Shape         Param #     Connected to                     \n",
            "==================================================================================================\n",
            " input_1 (InputLayer)           [(None, None, 71)]   0           []                               \n",
            "                                                                                                  \n",
            " input_2 (InputLayer)           [(None, None, 92)]   0           []                               \n",
            "                                                                                                  \n",
            " lstm (LSTM)                    [(None, 256),        335872      ['input_1[0][0]']                \n",
            "                                 (None, 256),                                                     \n",
            "                                 (None, 256)]                                                     \n",
            "                                                                                                  \n",
            " lstm_1 (LSTM)                  [(None, None, 256),  357376      ['input_2[0][0]',                \n",
            "                                 (None, 256),                     'lstm[0][1]',                   \n",
            "                                 (None, 256)]                     'lstm[0][2]']                   \n",
            "                                                                                                  \n",
            " dense (Dense)                  (None, None, 92)     23644       ['lstm_1[0][0]']                 \n",
            "                                                                                                  \n",
            "==================================================================================================\n",
            "Total params: 716,892\n",
            "Trainable params: 716,892\n",
            "Non-trainable params: 0\n",
            "__________________________________________________________________________________________________\n"
          ]
        }
      ],
      "source": [
        "model.summary()"
      ]
    },
    {
      "cell_type": "code",
      "execution_count": 9,
      "metadata": {
        "colab": {
          "base_uri": "https://localhost:8080/",
          "height": 369
        },
        "id": "SUclD_sjU7YK",
        "outputId": "63112bb1-c865-49c8-f5ad-b386884b6416"
      },
      "outputs": [
        {
          "data": {
            "image/png": "[encoded data removed]",
            "text/plain": [
              "<IPython.core.display.Image object>"
            ]
          },
          "execution_count": 9,
          "metadata": {},
          "output_type": "execute_result"
        }
      ],
      "source": [
        "tf.keras.utils.plot_model(model)"
      ]
    },
    {
      "cell_type": "code",
      "execution_count": null,
      "metadata": {
        "id": "Fn8Cobn-Hlec"
      },
      "outputs": [],
      "source": [
        "# train our model\n",
        "model.compile(\n",
        "    optimizer=\"rmsprop\", loss=\"categorical_crossentropy\", metrics=[\"accuracy\"]\n",
        ")\n",
        "model.fit(\n",
        "    [encoder_input_data, decoder_input_data],\n",
        "    decoder_target_data,\n",
        "    batch_size=batch_size,\n",
        "    epochs=epochs,\n",
        "    validation_split=0.2,\n",
        ")\n",
        "# Save model\n",
        "model.save(\"s2s\")"
      ]
    },
    {
      "cell_type": "code",
      "execution_count": 11,
      "metadata": {
        "id": "C85pvuOtOKHn"
      },
      "outputs": [],
      "source": [
        "## Define sampling models\n",
        "\n",
        "# Restore the model and construct the encoder and decoder.\n",
        "model = keras.models.load_model(\"s2s\")\n",
        "\n",
        "encoder_model = keras.Model(encoder_inputs, encoder_states) #re-build\n",
        "\n",
        "# construct decoder\n",
        "decoder_state_input_h = keras.Input(shape=(latent_dim,))\n",
        "decoder_state_input_c = keras.Input(shape=(latent_dim,))\n",
        "decoder_states_inputs = [decoder_state_input_h, decoder_state_input_c] # define inputs to our decoder\n",
        "# run inputs through lstm\n",
        "decoder_outputs, state_h_dec, state_c_dec = decoder_lstm(\n",
        "    decoder_inputs, initial_state=decoder_states_inputs\n",
        ")\n",
        "decoder_states = [state_h_dec, state_c_dec] # get decoder states\n",
        "decoder_outputs = decoder_dense(decoder_outputs)\n",
        "# create decoder model; input of \n",
        "decoder_model = keras.Model(\n",
        "    [decoder_inputs] + decoder_states_inputs, # create [inputs, h, c]\n",
        "    [decoder_outputs] + decoder_states # decoder outputs; dense layer decoder outputs to get representation\n",
        ")\n",
        "\n",
        "# Reverse-lookup token index to decode sequences back to\n",
        "# something readable.\n",
        "reverse_input_char_index = dict((i, char) for char, i in input_token_index.items())\n",
        "reverse_target_char_index = dict((i, char) for char, i in target_token_index.items())\n",
        "\n",
        "\n",
        "def decode_sequence(input_seq):\n",
        "    # Encode the input as state vectors.\n",
        "    states_value = encoder_model.predict(input_seq)\n",
        "\n",
        "    # Generate empty target sequence of length 1.\n",
        "    target_seq = np.zeros((1, 1, num_decoder_tokens)) # all the possible tokens; just a one hot encoded vector of one word...\n",
        "    # Populate the first character of target sequence with the start character.\n",
        "    target_seq[0, 0, target_token_index[\"\\t\"]] = 1.0\n",
        "\n",
        "    # Sampling loop for a batch of sequences\n",
        "    # (to simplify, here we assume a batch of size 1).\n",
        "    stop_condition = False\n",
        "    decoded_sentence = \"\"\n",
        "    while not stop_condition:\n",
        "\n",
        "        # predict output tokens based on current target sequence, and current states value\n",
        "        # states value from encoder model\n",
        "        output_tokens, h, c = decoder_model.predict([target_seq] + states_value)\n",
        "\n",
        "        # Sample a token\n",
        "        sampled_token_index = np.argmax(output_tokens[0, -1, :])\n",
        "        sampled_char = reverse_target_char_index[sampled_token_index]\n",
        "        decoded_sentence += sampled_char\n",
        "\n",
        "        # Exit condition: either hit max length\n",
        "        # or find stop character.\n",
        "        if sampled_char == \"\\n\" or len(decoded_sentence) > max_decoder_seq_length:\n",
        "            stop_condition = True\n",
        "\n",
        "        # Update the target sequence (of length 1).\n",
        "        target_seq = np.zeros((1, 1, num_decoder_tokens))\n",
        "        target_seq[0, 0, sampled_token_index] = 1.0\n",
        "\n",
        "        # Update states\n",
        "        states_value = [h, c] #update h, c\n",
        "    return decoded_sentence"
      ]
    },
    {
      "cell_type": "code",
      "execution_count": 14,
      "metadata": {
        "colab": {
          "base_uri": "https://localhost:8080/",
          "height": 174
        },
        "id": "arQqxHcMuGC0",
        "outputId": "d94f5a75-c8cf-4858-e5e1-43ad9e26ec4b"
      },
      "outputs": [
        {
          "data": {
            "image/png": "[encoded data removed]",
            "text/plain": [
              "<IPython.core.display.Image object>"
            ]
          },
          "execution_count": 14,
          "metadata": {},
          "output_type": "execute_result"
        }
      ],
      "source": [
        "tf.keras.utils.plot_model(encoder_model)"
      ]
    },
    {
      "cell_type": "code",
      "execution_count": 13,
      "metadata": {
        "colab": {
          "base_uri": "https://localhost:8080/",
          "height": 272
        },
        "id": "VI6YqNJFt9RS",
        "outputId": "6d2ae309-8ab0-4361-e70d-80b2e30433fe"
      },
      "outputs": [
        {
          "data": {
            "image/png": "[encoded data removed]",
            "text/plain": [
              "<IPython.core.display.Image object>"
            ]
          },
          "execution_count": 13,
          "metadata": {},
          "output_type": "execute_result"
        }
      ],
      "source": [
        "# input sequence; target sequence of 1 before, then h and c layers\n",
        "tf.keras.utils.plot_model(decoder_model)"
      ]
    },
    {
      "cell_type": "code",
      "execution_count": null,
      "metadata": {
        "colab": {
          "base_uri": "https://localhost:8080/"
        },
        "id": "gQtajnjuPxPb",
        "outputId": "5f3353b4-8d97-4fab-e62a-e2524a0b241d"
      },
      "outputs": [
        {
          "name": "stdout",
          "output_type": "stream",
          "text": [
            "-\n",
            "Input sentence: Go.\n",
            "Decoded sentence: Je s e                                                      \n"
          ]
        }
      ],
      "source": [
        "# can now generate decoded sequences\n",
        "for seq_index in range(50):\n",
        "    # Take one sequence (part of the training set)\n",
        "    # for trying out decoding.\n",
        "    input_seq = encoder_input_data[seq_index : seq_index + 1]\n",
        "    decoded_sentence = decode_sequence(input_seq)\n",
        "    print(\"-\")\n",
        "    print(\"Input sentence:\", input_texts[seq_index])\n",
        "    print(\"Decoded sentence:\", decoded_sentence)\n",
        "    break"
      ]
    },
    {
      "cell_type": "code",
      "execution_count": null,
      "metadata": {
        "id": "6QYYgVS3QCvU"
      },
      "outputs": [],
      "source": []
    }
  ],
  "metadata": {
    "accelerator": "GPU",
    "colab": {
      "collapsed_sections": [],
      "name": "Keras Seq2Seq.ipynb",
      "provenance": []
    },
    "kernelspec": {
      "display_name": "Python 3",
      "name": "python3"
    },
    "language_info": {
      "name": "python"
    }
  },
  "nbformat": 4,
  "nbformat_minor": 0
}
