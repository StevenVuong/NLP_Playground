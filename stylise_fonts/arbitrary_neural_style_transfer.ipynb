{
  "cells": [
    {
      "cell_type": "code",
      "execution_count": null,
      "metadata": {
        "id": "oGz1bwy-4NMn"
      },
      "outputs": [],
      "source": [
        "  import tensorflow_hub as hub"
      ]
    },
    {
      "cell_type": "code",
      "execution_count": null,
      "metadata": {
        "id": "knvVldmi4v9V"
      },
      "outputs": [],
      "source": [
        "# Load image stylization module.\n",
        "hub_module = hub.load('https://tfhub.dev/google/magenta/arbitrary-image-stylization-v1-256/2')\n",
        "# https://tfhub.dev/google/magenta/arbitrary-image-stylization-v1-256/2"
      ]
    },
    {
      "cell_type": "code",
      "execution_count": null,
      "metadata": {
        "id": "WjIX7mhO22_t"
      },
      "outputs": [],
      "source": [
        "# Load content and style images (see example in the attached colab).\n",
        "content_image = plt.imread('./date1.jpg')\n",
        "style_image = plt.imread('./love6.jpg')\n",
        "# Convert to float32 numpy array, add batch dimension, and normalize to range [0, 1]. Example using numpy:\n",
        "content_image = content_image.astype(np.float32)[np.newaxis, ...] / 255.\n",
        "style_image = style_image.astype(np.float32)[np.newaxis, ...] / 255.\n",
        "# Optionally resize the images. It is recommended that the style image is about\n",
        "# 256 pixels (this size was used when training the style transfer network).\n",
        "# The content image can be any size.\n",
        "style_image = tf.image.resize(style_image, (256, 256))\n",
        "\n",
        "\n",
        "# Stylize image.\n",
        "outputs = hub_module(tf.constant(content_image), tf.constant(style_image))\n",
        "stylized_image = outputs[0]"
      ]
    },
    {
      "cell_type": "code",
      "execution_count": null,
      "metadata": {
        "colab": {
          "base_uri": "https://localhost:8080/",
          "height": 150
        },
        "id": "ZIihBQFX4IOY",
        "outputId": "179e0d5f-7b59-4bf7-f63e-0ceb8508abdc"
      },
      "outputs": [],
      "source": [
        "plt.imshow(stylized_image[0,:])"
      ]
    },
    {
      "cell_type": "code",
      "execution_count": null,
      "metadata": {
        "id": "GUEFKgnj4S2D"
      },
      "outputs": [],
      "source": []
    }
  ],
  "metadata": {
    "colab": {
      "name": "Untitled0.ipynb",
      "provenance": []
    },
    "kernelspec": {
      "display_name": "Python 3",
      "name": "python3"
    },
    "language_info": {
      "name": "python"
    }
  },
  "nbformat": 4,
  "nbformat_minor": 0
}
